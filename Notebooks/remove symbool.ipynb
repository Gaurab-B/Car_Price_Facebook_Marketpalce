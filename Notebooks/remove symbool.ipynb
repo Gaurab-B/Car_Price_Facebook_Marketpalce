{
 "cells": [
  {
   "cell_type": "code",
   "execution_count": 1,
   "id": "a96c9414",
   "metadata": {},
   "outputs": [],
   "source": [
    "import pandas as pd\n",
    "import numpy as np"
   ]
  },
  {
   "cell_type": "code",
   "execution_count": 2,
   "id": "9404f0e9",
   "metadata": {},
   "outputs": [],
   "source": [
    "path = \"temp.txt\""
   ]
  },
  {
   "cell_type": "code",
   "execution_count": 3,
   "id": "1be89fd2",
   "metadata": {},
   "outputs": [],
   "source": [
    "def removal(path):\n",
    "    with open(path, 'r') as file:\n",
    "        content = file.read()\n",
    "        content = f\" {content} \"\n",
    "        content = content.replace(\"'\", \"\")\n",
    "    return content"
   ]
  },
  {
   "cell_type": "code",
   "execution_count": 4,
   "id": "0fd1a94b",
   "metadata": {},
   "outputs": [
    {
     "data": {
      "text/plain": [
       "' ;asdasdasasdasdasd '"
      ]
     },
     "execution_count": 4,
     "metadata": {},
     "output_type": "execute_result"
    }
   ],
   "source": [
    "content = removal(path)\n",
    "content"
   ]
  },
  {
   "cell_type": "code",
   "execution_count": 5,
   "id": "c5c40887",
   "metadata": {},
   "outputs": [],
   "source": [
    "with open(path, 'w') as file:\n",
    "    file.write(content)"
   ]
  },
  {
   "cell_type": "code",
   "execution_count": null,
   "id": "82124ab2",
   "metadata": {},
   "outputs": [],
   "source": []
  }
 ],
 "metadata": {
  "kernelspec": {
   "display_name": "Python 3 (ipykernel)",
   "language": "python",
   "name": "python3"
  },
  "language_info": {
   "codemirror_mode": {
    "name": "ipython",
    "version": 3
   },
   "file_extension": ".py",
   "mimetype": "text/x-python",
   "name": "python",
   "nbconvert_exporter": "python",
   "pygments_lexer": "ipython3",
   "version": "3.11.4"
  }
 },
 "nbformat": 4,
 "nbformat_minor": 5
}
